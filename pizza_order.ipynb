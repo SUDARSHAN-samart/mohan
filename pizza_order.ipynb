{
  "nbformat": 4,
  "nbformat_minor": 0,
  "metadata": {
    "colab": {
      "provenance": [],
      "name": "pizza_order.ipynb",
      "authorship_tag": "ABX9TyPnU1fxBwunSxAIztSovUyB",
      "include_colab_link": true
    },
    "kernelspec": {
      "name": "python3",
      "display_name": "Python 3"
    },
    "language_info": {
      "name": "python"
    }
  },
  "cells": [
    {
      "cell_type": "markdown",
      "metadata": {
        "id": "view-in-github",
        "colab_type": "text"
      },
      "source": [
        "<a href=\"https://colab.research.google.com/github/SUDARSHAN-samart/mohan/blob/main/pizza_order.ipynb\" target=\"_parent\"><img src=\"https://colab.research.google.com/assets/colab-badge.svg\" alt=\"Open In Colab\"/></a>"
      ]
    },
    {
      "cell_type": "code",
      "execution_count": null,
      "metadata": {
        "id": "wE3tL8nPHDG8",
        "colab": {
          "base_uri": "https://localhost:8080/"
        },
        "outputId": "ce1fa5b6-f34f-447b-e72b-2870eb1e43d5"
      },
      "outputs": [
        {
          "output_type": "stream",
          "name": "stdout",
          "text": [
            "Welcome to the pizza palace\n",
            "menu:\n",
            "1. Margherita\n",
            "2. pepperoni\n",
            "3. Veggie\n",
            "Enter your choice: 3\n",
            "You selected:Veggie\n",
            "order confirmed!\n"
          ]
        }
      ],
      "source": [
        "\n",
        "-import random\n",
        "def get_user_choice(options):\n",
        "  \"\"\"\n",
        "  Gets user input and validates it aganist provided options.\n",
        "  Args:\n",
        "     option: A list of valid options.\n",
        "  returns:\n",
        "  The user's valid choice.\n",
        "  \"\"\"\n",
        "  while True:\n",
        "    user_input=input(\"Enter your choice: \").lower()\n",
        "    if user_input in options:\n",
        "      return user_input\n",
        "    else:\n",
        "      print(f\"Invalid choice.please select from:{','.join(options)}\")\n",
        "def order_pizza():\n",
        "  \"\"\"\n",
        "  Handles the pizza odering process.\n",
        "  \"\"\"\n",
        "  print(\"Welcome to the pizza palace!\")\n",
        "  print(\"menu:\")\n",
        "  print(\"1. Margherita\")\n",
        "  print(\"2. pepperoni\")\n",
        "  print(\"3. Veggie\")\n",
        "  pizza__choices=[\"1\",\"2\",\"3\"]\n",
        "  pizza__choice=get_user_choice(pizza__choices)\n",
        "\n",
        "  if pizza__choice == \"1\":\n",
        "   pizza= \"Merghertia\"\n",
        "  elif pizza__choice ==\"2\":\n",
        "   pizza=\"Pepperoni\"\n",
        "  else:\n",
        "    pizza=\"Veggie\"\n",
        "    print(f\"You selected:{pizza}\")\n",
        "    #optional:Add more customization options(size,toppings,etc.)\n",
        "    print(\"order confirmed!\")\n",
        "if __name__ == \"__main__\":\n",
        "    order_pizza()\n"
      ]
    }
  ]
}